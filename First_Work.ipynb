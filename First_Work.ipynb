{
 "metadata": {
  "name": "",
  "signature": "sha256:4fa8d453ba5f3ff473ade62c5eb0ea397f7a528db7bcd8e057616a9b4448d4cd"
 },
 "nbformat": 3,
 "nbformat_minor": 0,
 "worksheets": [
  {
   "cells": [
    {
     "cell_type": "code",
     "collapsed": false,
     "input": [
      "import clockwise\n",
      "from matplotlib import pyplot as plt"
     ],
     "language": "python",
     "metadata": {},
     "outputs": [],
     "prompt_number": 2
    },
    {
     "cell_type": "code",
     "collapsed": false,
     "input": [
      "fig = plt.figure(1, figsize=clockwise.SIZE, dpi=90)\n",
      "\n",
      "ax = fig.add_subplot(1, 2, 1, axisbg='#2D333A')\n",
      "ax.set_aspect(1)\n",
      "tr = clockwise.Triangle(ax)\n",
      "\n",
      "plt.connect('button_press_event', tr.update_path)\n",
      "plt.connect('motion_notify_event', tr.set_location)\n",
      "\n",
      "ax = fig.add_subplot(1, 2, 2, axisbg='#2D333A')\n",
      "ax.set_aspect(1)\n",
      "tr2 = clockwise.Hull(ax)\n",
      "\n",
      "plt.connect('button_press_event', tr2.update_path)\n",
      "plt.connect('motion_notify_event', tr2.set_location)\n",
      "\n",
      "plt.show()"
     ],
     "language": "python",
     "metadata": {},
     "outputs": [],
     "prompt_number": 3
    },
    {
     "cell_type": "code",
     "collapsed": false,
     "input": [],
     "language": "python",
     "metadata": {},
     "outputs": []
    }
   ],
   "metadata": {}
  }
 ]
}